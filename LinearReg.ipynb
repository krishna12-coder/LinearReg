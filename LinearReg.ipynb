{
 "cells": [
  {
   "cell_type": "markdown",
   "id": "333e93d9-d231-4658-89d1-c98dd55793df",
   "metadata": {},
   "source": [
    "# Importing Libraries"
   ]
  },
  {
   "cell_type": "code",
   "execution_count": 20,
   "id": "21d9623f-c8aa-412b-b93e-2bf2590b4472",
   "metadata": {},
   "outputs": [],
   "source": [
    "import pandas as pd\n",
    "import numpy as np\n",
    "import matplotlib.pyplot as mlt"
   ]
  },
  {
   "cell_type": "markdown",
   "id": "db95584e-e35a-4dad-b069-996aac9f440e",
   "metadata": {},
   "source": [
    "loading the Data"
   ]
  },
  {
   "cell_type": "code",
   "execution_count": 21,
   "id": "6d09277a-421c-484a-b06a-7998d0a77261",
   "metadata": {},
   "outputs": [],
   "source": [
    "data = pd.read_csv(r\"C:\\Users\\Hp\\Downloads\\data_for_lr.csv\")"
   ]
  },
  {
   "cell_type": "code",
   "execution_count": 22,
   "id": "9deea07d-12f8-4085-851f-f2514d77c2f0",
   "metadata": {},
   "outputs": [
    {
     "data": {
      "text/html": [
       "<div>\n",
       "<style scoped>\n",
       "    .dataframe tbody tr th:only-of-type {\n",
       "        vertical-align: middle;\n",
       "    }\n",
       "\n",
       "    .dataframe tbody tr th {\n",
       "        vertical-align: top;\n",
       "    }\n",
       "\n",
       "    .dataframe thead th {\n",
       "        text-align: right;\n",
       "    }\n",
       "</style>\n",
       "<table border=\"1\" class=\"dataframe\">\n",
       "  <thead>\n",
       "    <tr style=\"text-align: right;\">\n",
       "      <th></th>\n",
       "      <th>x</th>\n",
       "      <th>y</th>\n",
       "    </tr>\n",
       "  </thead>\n",
       "  <tbody>\n",
       "    <tr>\n",
       "      <th>0</th>\n",
       "      <td>24.0</td>\n",
       "      <td>21.549452</td>\n",
       "    </tr>\n",
       "    <tr>\n",
       "      <th>1</th>\n",
       "      <td>50.0</td>\n",
       "      <td>47.464463</td>\n",
       "    </tr>\n",
       "    <tr>\n",
       "      <th>2</th>\n",
       "      <td>15.0</td>\n",
       "      <td>17.218656</td>\n",
       "    </tr>\n",
       "    <tr>\n",
       "      <th>3</th>\n",
       "      <td>38.0</td>\n",
       "      <td>36.586398</td>\n",
       "    </tr>\n",
       "    <tr>\n",
       "      <th>4</th>\n",
       "      <td>87.0</td>\n",
       "      <td>87.288984</td>\n",
       "    </tr>\n",
       "    <tr>\n",
       "      <th>5</th>\n",
       "      <td>36.0</td>\n",
       "      <td>32.463875</td>\n",
       "    </tr>\n",
       "    <tr>\n",
       "      <th>6</th>\n",
       "      <td>12.0</td>\n",
       "      <td>10.780897</td>\n",
       "    </tr>\n",
       "    <tr>\n",
       "      <th>7</th>\n",
       "      <td>81.0</td>\n",
       "      <td>80.763399</td>\n",
       "    </tr>\n",
       "    <tr>\n",
       "      <th>8</th>\n",
       "      <td>25.0</td>\n",
       "      <td>24.612151</td>\n",
       "    </tr>\n",
       "    <tr>\n",
       "      <th>9</th>\n",
       "      <td>5.0</td>\n",
       "      <td>6.963319</td>\n",
       "    </tr>\n",
       "  </tbody>\n",
       "</table>\n",
       "</div>"
      ],
      "text/plain": [
       "      x          y\n",
       "0  24.0  21.549452\n",
       "1  50.0  47.464463\n",
       "2  15.0  17.218656\n",
       "3  38.0  36.586398\n",
       "4  87.0  87.288984\n",
       "5  36.0  32.463875\n",
       "6  12.0  10.780897\n",
       "7  81.0  80.763399\n",
       "8  25.0  24.612151\n",
       "9   5.0   6.963319"
      ]
     },
     "execution_count": 22,
     "metadata": {},
     "output_type": "execute_result"
    }
   ],
   "source": [
    "data.head(10)"
   ]
  },
  {
   "cell_type": "code",
   "execution_count": 23,
   "id": "92f2f94a-963b-44e1-9471-a78ca717fa4d",
   "metadata": {},
   "outputs": [
    {
     "name": "stdout",
     "output_type": "stream",
     "text": [
      "<class 'pandas.core.frame.DataFrame'>\n",
      "RangeIndex: 700 entries, 0 to 699\n",
      "Data columns (total 2 columns):\n",
      " #   Column  Non-Null Count  Dtype  \n",
      "---  ------  --------------  -----  \n",
      " 0   x       700 non-null    float64\n",
      " 1   y       699 non-null    float64\n",
      "dtypes: float64(2)\n",
      "memory usage: 11.1 KB\n"
     ]
    }
   ],
   "source": [
    "data.info()\n"
   ]
  },
  {
   "cell_type": "code",
   "execution_count": 24,
   "id": "991da6c1-e5a3-414e-9595-879c72a3c046",
   "metadata": {},
   "outputs": [
    {
     "data": {
      "text/plain": [
       "x    0\n",
       "y    1\n",
       "dtype: int64"
      ]
     },
     "execution_count": 24,
     "metadata": {},
     "output_type": "execute_result"
    }
   ],
   "source": [
    "data.isnull().sum()"
   ]
  },
  {
   "cell_type": "code",
   "execution_count": 25,
   "id": "0fd4125a-4df3-4151-9a60-c825ba4842c8",
   "metadata": {},
   "outputs": [
    {
     "data": {
      "text/html": [
       "<div>\n",
       "<style scoped>\n",
       "    .dataframe tbody tr th:only-of-type {\n",
       "        vertical-align: middle;\n",
       "    }\n",
       "\n",
       "    .dataframe tbody tr th {\n",
       "        vertical-align: top;\n",
       "    }\n",
       "\n",
       "    .dataframe thead th {\n",
       "        text-align: right;\n",
       "    }\n",
       "</style>\n",
       "<table border=\"1\" class=\"dataframe\">\n",
       "  <thead>\n",
       "    <tr style=\"text-align: right;\">\n",
       "      <th></th>\n",
       "      <th>x</th>\n",
       "      <th>y</th>\n",
       "    </tr>\n",
       "  </thead>\n",
       "  <tbody>\n",
       "    <tr>\n",
       "      <th>0</th>\n",
       "      <td>False</td>\n",
       "      <td>False</td>\n",
       "    </tr>\n",
       "    <tr>\n",
       "      <th>1</th>\n",
       "      <td>False</td>\n",
       "      <td>False</td>\n",
       "    </tr>\n",
       "    <tr>\n",
       "      <th>2</th>\n",
       "      <td>False</td>\n",
       "      <td>False</td>\n",
       "    </tr>\n",
       "    <tr>\n",
       "      <th>3</th>\n",
       "      <td>False</td>\n",
       "      <td>False</td>\n",
       "    </tr>\n",
       "    <tr>\n",
       "      <th>4</th>\n",
       "      <td>False</td>\n",
       "      <td>False</td>\n",
       "    </tr>\n",
       "    <tr>\n",
       "      <th>...</th>\n",
       "      <td>...</td>\n",
       "      <td>...</td>\n",
       "    </tr>\n",
       "    <tr>\n",
       "      <th>695</th>\n",
       "      <td>False</td>\n",
       "      <td>False</td>\n",
       "    </tr>\n",
       "    <tr>\n",
       "      <th>696</th>\n",
       "      <td>False</td>\n",
       "      <td>False</td>\n",
       "    </tr>\n",
       "    <tr>\n",
       "      <th>697</th>\n",
       "      <td>False</td>\n",
       "      <td>False</td>\n",
       "    </tr>\n",
       "    <tr>\n",
       "      <th>698</th>\n",
       "      <td>False</td>\n",
       "      <td>False</td>\n",
       "    </tr>\n",
       "    <tr>\n",
       "      <th>699</th>\n",
       "      <td>False</td>\n",
       "      <td>False</td>\n",
       "    </tr>\n",
       "  </tbody>\n",
       "</table>\n",
       "<p>700 rows × 2 columns</p>\n",
       "</div>"
      ],
      "text/plain": [
       "         x      y\n",
       "0    False  False\n",
       "1    False  False\n",
       "2    False  False\n",
       "3    False  False\n",
       "4    False  False\n",
       "..     ...    ...\n",
       "695  False  False\n",
       "696  False  False\n",
       "697  False  False\n",
       "698  False  False\n",
       "699  False  False\n",
       "\n",
       "[700 rows x 2 columns]"
      ]
     },
     "execution_count": 25,
     "metadata": {},
     "output_type": "execute_result"
    }
   ],
   "source": [
    "data.isnull()"
   ]
  },
  {
   "cell_type": "markdown",
   "id": "69372da5-4313-4743-ba16-667b692dbd0e",
   "metadata": {},
   "source": [
    "Data processing"
   ]
  },
  {
   "cell_type": "code",
   "execution_count": 26,
   "id": "986373c8-3458-4749-91fb-2eef6cb345a7",
   "metadata": {},
   "outputs": [
    {
     "name": "stdout",
     "output_type": "stream",
     "text": [
      "Shape of the data:  (699, 2)\n"
     ]
    }
   ],
   "source": [
    "data = data.dropna()\n",
    "print('Shape of the data: ', data.shape)"
   ]
  },
  {
   "cell_type": "code",
   "execution_count": 27,
   "id": "9a5f6b09-4dc4-438b-9e54-66bc0fa70f2a",
   "metadata": {},
   "outputs": [
    {
     "name": "stdout",
     "output_type": "stream",
     "text": [
      "<class 'pandas.core.frame.DataFrame'>\n",
      "Index: 699 entries, 0 to 699\n",
      "Data columns (total 2 columns):\n",
      " #   Column  Non-Null Count  Dtype  \n",
      "---  ------  --------------  -----  \n",
      " 0   x       699 non-null    float64\n",
      " 1   y       699 non-null    float64\n",
      "dtypes: float64(2)\n",
      "memory usage: 16.4 KB\n"
     ]
    }
   ],
   "source": [
    "data.info()"
   ]
  },
  {
   "cell_type": "markdown",
   "id": "6cbc445c-3b8f-47c9-967f-f2c2586cf0a7",
   "metadata": {},
   "source": [
    "spliting the data"
   ]
  },
  {
   "cell_type": "code",
   "execution_count": 32,
   "id": "f7cf2d04-1d18-40a1-81b8-b7111a6775db",
   "metadata": {},
   "outputs": [],
   "source": [
    "#training the input and output\n",
    "train_input = np.array(data.x[0:500]).reshape(500, 1)\n",
    "train_output = np.array(data.y[0:500]).reshape(500, 1)\n",
    "\n",
    "#Validation the input and output\n",
    "\n",
    "test_input = np.array(data.x[500:700]).reshape(199, 1)\n",
    "test_output = np.array(data.y[500:700]).reshape(199, 1)\n"
   ]
  },
  {
   "cell_type": "code",
   "execution_count": 34,
   "id": "3e937a4b-e5c2-44af-915b-b61ed6f6788a",
   "metadata": {},
   "outputs": [
    {
     "name": "stdout",
     "output_type": "stream",
     "text": [
      "training input data shape: (500, 1)\n",
      "training output data shape: (500, 1)\n",
      "testing input data shape: (199, 1)\n",
      "testing output data shape: (199, 1)\n"
     ]
    }
   ],
   "source": [
    "print(f\"training input data shape: {train_input.shape}\")\n",
    "print(f\"training output data shape: {train_output.shape}\")\n",
    "print(f\"testing input data shape: {test_input.shape}\")\n",
    "print(f\"testing output data shape: {test_output.shape}\")\n"
   ]
  },
  {
   "cell_type": "markdown",
   "id": "468212d8-c65c-4465-b4f3-01d11d316c44",
   "metadata": {},
   "source": [
    "<font color = \"green\"> Linear Regression</font>"
   ]
  },
  {
   "cell_type": "markdown",
   "id": "4cf40d04-83f6-48af-9227-a8e6a480faea",
   "metadata": {},
   "source": [
    "Forward propogation"
   ]
  },
  {
   "cell_type": "raw",
   "id": "83630439-dff1-42b3-8f18-8129f3724c86",
   "metadata": {},
   "source": [
    "f(x) = m*x + c"
   ]
  },
  {
   "cell_type": "code",
   "execution_count": 40,
   "id": "d6b3c773-7d4f-431d-8359-8d25dae670cf",
   "metadata": {},
   "outputs": [],
   "source": [
    "def forward_propagation(train_input, parameters):\n",
    "    m = parameters[\"m\"]\n",
    "    c = parameters[\"c\"]\n",
    "\n",
    "    predictions = np.multiply(m, train_input) + c\n",
    "\n",
    "    return predictions"
   ]
  },
  {
   "cell_type": "markdown",
   "id": "a0e3feab-eab3-4900-aa06-c0d24eccd8aa",
   "metadata": {},
   "source": [
    "Cost Function"
   ]
  },
  {
   "cell_type": "raw",
   "id": "15eb24eb-551d-42c2-9bbb-dc132362fe30",
   "metadata": {},
   "source": [
    "summation (1/2n * (y-f(x))^2)"
   ]
  },
  {
   "cell_type": "code",
   "execution_count": null,
   "id": "ad9b3846-14cc-4f40-85cb-18fce6eca404",
   "metadata": {},
   "outputs": [],
   "source": [
    "def cost_function(predictions, train_output):\n",
    "    cost = np.mean((train_output - predictions) ** 2) *0.5\n",
    "    return cost"
   ]
  },
  {
   "cell_type": "markdown",
   "id": "170495fe-4369-437c-9a3f-818c7d9be703",
   "metadata": {},
   "source": [
    "Gradient decent for backpropagation"
   ]
  },
  {
   "cell_type": "raw",
   "id": "69e4b245-b27f-46e0-b89d-88ba73247d30",
   "metadata": {},
   "source": [
    "df = (f(x) - y)/n\n",
    "dm = df * x\n",
    "dc = df * 1"
   ]
  },
  {
   "cell_type": "code",
   "execution_count": 41,
   "id": "bf7cc66b-609a-476a-8bcd-42b31d2a18a2",
   "metadata": {},
   "outputs": [],
   "source": [
    "def backward_propagation(train_input, train_output, predictions):\n",
    "    derivatives = dict()\n",
    "\n",
    "    df = predictions - train_input\n",
    "    dm = np.mean(np.multiply(df, train_input))\n",
    "    dc = np.mean(df)\n",
    "\n",
    "    return derivatives"
   ]
  },
  {
   "cell_type": "markdown",
   "id": "913b3912-4d7f-4dd7-b461-98c5cf301fe7",
   "metadata": {},
   "source": [
    "Updating Parameters"
   ]
  },
  {
   "cell_type": "raw",
   "id": "3c416cb2-a593-4227-88bb-621812ea5cc5",
   "metadata": {},
   "source": [
    "m = m - (learning_rate*dm)\n",
    "c = c - (learning_rate*dc)"
   ]
  },
  {
   "cell_type": "code",
   "execution_count": 42,
   "id": "f7eeed6c-2440-43cd-916e-7d268bfb1865",
   "metadata": {},
   "outputs": [],
   "source": [
    "def update_parameters(parameters, derivatives, learning_rate):\n",
    "    parameters['m'] = parameters['m'] - learning_rate * derivative['dm']\n",
    "    parameters['c'] = parameters['c'] - learning_rate * derivative['dc']\n",
    "\n",
    "    return parameters\n",
    "    "
   ]
  },
  {
   "cell_type": "code",
   "execution_count": null,
   "id": "e8c6acdb-e50a-4738-bdaf-93acabaa0dce",
   "metadata": {},
   "outputs": [],
   "source": []
  }
 ],
 "metadata": {
  "kernelspec": {
   "display_name": "Python 3 (ipykernel)",
   "language": "python",
   "name": "python3"
  },
  "language_info": {
   "codemirror_mode": {
    "name": "ipython",
    "version": 3
   },
   "file_extension": ".py",
   "mimetype": "text/x-python",
   "name": "python",
   "nbconvert_exporter": "python",
   "pygments_lexer": "ipython3",
   "version": "3.8.10"
  }
 },
 "nbformat": 4,
 "nbformat_minor": 5
}
